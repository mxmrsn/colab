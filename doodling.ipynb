{
  "nbformat": 4,
  "nbformat_minor": 0,
  "metadata": {
    "colab": {
      "name": "doodling.ipynb",
      "provenance": [],
      "collapsed_sections": [],
      "authorship_tag": "ABX9TyMgFAGqxEyp55wQbm5mFTrb",
      "include_colab_link": true
    },
    "kernelspec": {
      "name": "python3",
      "display_name": "Python 3"
    }
  },
  "cells": [
    {
      "cell_type": "markdown",
      "metadata": {
        "id": "view-in-github",
        "colab_type": "text"
      },
      "source": [
        "<a href=\"https://colab.research.google.com/github/mxmrsn/colab/blob/main/doodling.ipynb\" target=\"_parent\"><img src=\"https://colab.research.google.com/assets/colab-badge.svg\" alt=\"Open In Colab\"/></a>"
      ]
    },
    {
      "cell_type": "markdown",
      "metadata": {
        "id": "yavK90VjhfOA"
      },
      "source": [
        "Numpy Example"
      ]
    },
    {
      "cell_type": "code",
      "metadata": {
        "id": "9V7QF42hhdWA"
      },
      "source": [
        "import numpy as np\n",
        "\n",
        "A = np.array([1, 2, 3, 4, 5])\n",
        "B = np.array([1.,2.,3.,4.,5.])\n",
        "\n",
        "print(\"A: {}\".format(A))\n",
        "print(\"B: {}\".format(D))\n",
        "\n",
        "print(\"Integer Array:\")\n",
        "for ii in A:\n",
        "  print(ii)\n",
        "\n",
        "print(\"Float Array:\")\n",
        "for ii in B:\n",
        "  print(ii)\n"
      ],
      "execution_count": null,
      "outputs": []
    },
    {
      "cell_type": "markdown",
      "metadata": {
        "id": "XnkqILazmQvZ"
      },
      "source": [
        "Matplotlib Example (static)"
      ]
    },
    {
      "cell_type": "code",
      "metadata": {
        "id": "vQkDp_oymZML"
      },
      "source": [
        "import matplotlib as mpl\n",
        "import matplotlib.pyplot as plt\n",
        "\n",
        "plt.style.use('classic')\n",
        "\n",
        "x = np.linspace(0, 10, 100)\n",
        " \n",
        "plt.plot(x, np.sin(x))\n",
        "plt.plot(x, np.cos(x))\n",
        " \n",
        "plt.show()"
      ],
      "execution_count": null,
      "outputs": []
    },
    {
      "cell_type": "markdown",
      "metadata": {
        "id": "NSv2vPtHr8Cu"
      },
      "source": [
        "Matplotlib Example (Animation)"
      ]
    },
    {
      "cell_type": "code",
      "metadata": {
        "colab": {
          "base_uri": "https://localhost:8080/",
          "height": 893
        },
        "id": "OjSjl191r_Ov",
        "outputId": "218284d3-4dfc-4f39-c8b0-71bc4264d6cf"
      },
      "source": [
        "import matplotlib.animation as animation\n",
        "\n",
        "\n",
        "def update_line(num, data, line):\n",
        "    line.set_data(data[..., :num])\n",
        "    return line,\n",
        "\n",
        "fig1 = plt.figure()\n",
        "\n",
        "# Fixing random state for reproducibility\n",
        "np.random.seed(19680801)\n",
        "\n",
        "data = np.random.rand(2, 25)\n",
        "l, = plt.plot([], [], 'r-')\n",
        "plt.xlim(0, 1)\n",
        "plt.ylim(0, 1)\n",
        "plt.xlabel('x')\n",
        "plt.title('test')\n",
        "line_ani = animation.FuncAnimation(fig1, update_line, 25, fargs=(data, l),\n",
        "                                   interval=50, blit=True)\n",
        "\n",
        "# fig2 = plt.figure()\n",
        "\n",
        "# x = np.arange(-9, 10)\n",
        "# y = np.arange(-9, 10).reshape(-1, 1)\n",
        "# base = np.hypot(x, y)\n",
        "# ims = []\n",
        "# for add in np.arange(15):\n",
        "#     ims.append((plt.pcolor(x, y, base + add, norm=plt.Normalize(0, 30)),))\n",
        "\n",
        "# im_ani = animation.ArtistAnimation(fig2, ims, interval=50, repeat_delay=3000,\n",
        "#                                    blit=True)\n",
        "\n",
        "# plt.show()"
      ],
      "execution_count": null,
      "outputs": [
        {
          "output_type": "display_data",
          "data": {
            "image/png": "[encoded data removed]",
            "text/plain": [
              "<Figure size 640x480 with 1 Axes>"
            ]
          },
          "metadata": {
            "tags": []
          }
        },
        {
          "output_type": "display_data",
          "data": {
            "image/png": "[encoded data removed]",
            "text/plain": [
              "<Figure size 640x480 with 1 Axes>"
            ]
          },
          "metadata": {
            "tags": []
          }
        }
      ]
    }
  ]
}